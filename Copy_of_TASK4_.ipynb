{
  "nbformat": 4,
  "nbformat_minor": 0,
  "metadata": {
    "colab": {
      "provenance": []
    },
    "kernelspec": {
      "name": "python3",
      "display_name": "Python 3"
    },
    "language_info": {
      "name": "python"
    }
  },
  "cells": [
    {
      "cell_type": "code",
      "source": [
        "TASK 4: OPTIMISATION TECHNIQUE"
      ],
      "metadata": {
        "id": "jQARbkyKvXbo"
      },
      "execution_count": null,
      "outputs": []
    },
    {
      "cell_type": "code",
      "source": [
        "#install pulp\n",
        "!pip install pulp"
      ],
      "metadata": {
        "id": "HLS0ngFmvfyF",
        "colab": {
          "base_uri": "https://localhost:8080/"
        },
        "outputId": "16f4a29e-4141-4d25-d825-3ea45d2b941d"
      },
      "execution_count": null,
      "outputs": [
        {
          "output_type": "stream",
          "name": "stdout",
          "text": [
            "Requirement already satisfied: pulp in /usr/local/lib/python3.11/dist-packages (3.2.1)\n"
          ]
        }
      ]
    },
    {
      "cell_type": "code",
      "source": [
        "#import pulp and define problem\n",
        "from pulp import *\n",
        "model=LpProblem(\"Maximize_profit\",LpMaximize)"
      ],
      "metadata": {
        "id": "j6HmRg9hPJVG"
      },
      "execution_count": null,
      "outputs": []
    },
    {
      "cell_type": "code",
      "source": [
        "#define decision variables\n",
        "A=LpVariable(\"Product_A\",lowBound=0,cat='Continous')\n",
        "B=LpVariable(\"Product_B\",lowBound=0,cat='Continous')"
      ],
      "metadata": {
        "id": "5z-lmjNAPoQd"
      },
      "execution_count": null,
      "outputs": []
    },
    {
      "cell_type": "code",
      "source": [
        "#objective function\n",
        "# Maximize profit: 40*A + 30*B\n",
        "model += 40*A + 30*B, \"Total_Profit\""
      ],
      "metadata": {
        "id": "LVoyiUWPQ6MF"
      },
      "execution_count": null,
      "outputs": []
    },
    {
      "cell_type": "code",
      "source": [
        "#adding constraints\n",
        "# Max units of Product A\n",
        "model += A <= 40, \"Max_A_Constraint\""
      ],
      "metadata": {
        "id": "Xfgb-sYPXUZO"
      },
      "execution_count": null,
      "outputs": []
    },
    {
      "cell_type": "code",
      "source": [
        "# Constraint on Product B\n",
        "model += B <= 60, \"Max_B_Constraint\""
      ],
      "metadata": {
        "id": "c_Vd9oSMaNuw"
      },
      "execution_count": null,
      "outputs": []
    },
    {
      "cell_type": "code",
      "source": [
        "# Labour constraint\n",
        "model += 1*A + 2*B <= 120, \"Labour_Constraint\""
      ],
      "metadata": {
        "id": "t4KPS5LnaZRP"
      },
      "execution_count": null,
      "outputs": []
    },
    {
      "cell_type": "code",
      "source": [
        "# Solve the model\n",
        "model.solve()"
      ],
      "metadata": {
        "id": "H7EhGswIad-6",
        "colab": {
          "base_uri": "https://localhost:8080/"
        },
        "outputId": "6807d420-ccd9-4167-aa8d-93331afa06d4"
      },
      "execution_count": null,
      "outputs": [
        {
          "output_type": "execute_result",
          "data": {
            "text/plain": [
              "1"
            ]
          },
          "metadata": {},
          "execution_count": 13
        }
      ]
    },
    {
      "cell_type": "code",
      "source": [
        "# Check the status of the solution\n",
        "print(\"Status:\", LpStatus[model.status])"
      ],
      "metadata": {
        "id": "3ilSejkMaffy",
        "outputId": "20438f9b-2a97-48c7-accc-ed9c891642e5",
        "colab": {
          "base_uri": "https://localhost:8080/"
        }
      },
      "execution_count": null,
      "outputs": [
        {
          "output_type": "stream",
          "name": "stdout",
          "text": [
            "Status: Optimal\n"
          ]
        }
      ]
    },
    {
      "cell_type": "code",
      "source": [
        "# Print the optimal values of the decision variables\n",
        "print(\"Optimal number of Product A to produce:\", A.varValue)\n",
        "print(\"Optimal number of Product B to produce:\", B.varValue)"
      ],
      "metadata": {
        "id": "dYxS_zFIaj_r",
        "outputId": "153bfc6c-74ad-4745-eafa-0c369ded05ac",
        "colab": {
          "base_uri": "https://localhost:8080/"
        }
      },
      "execution_count": null,
      "outputs": [
        {
          "output_type": "stream",
          "name": "stdout",
          "text": [
            "Optimal number of Product A to produce: 40.0\n",
            "Optimal number of Product B to produce: 40.0\n"
          ]
        }
      ]
    },
    {
      "cell_type": "code",
      "source": [
        "# Print the maximum profit\n",
        "print(\"Maximum total profit:\", value(model.objective))\n"
      ],
      "metadata": {
        "id": "MyECxQK6avDG",
        "outputId": "b50a6a71-da93-49bf-bbc5-bd6df52b97cd",
        "colab": {
          "base_uri": "https://localhost:8080/"
        }
      },
      "execution_count": null,
      "outputs": [
        {
          "output_type": "stream",
          "name": "stdout",
          "text": [
            "Maximum total profit: 2800.0\n"
          ]
        }
      ]
    }
  ]
}